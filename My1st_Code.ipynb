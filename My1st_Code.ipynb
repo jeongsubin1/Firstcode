{
  "nbformat": 4,
  "nbformat_minor": 0,
  "metadata": {
    "colab": {
      "provenance": [],
      "authorship_tag": "ABX9TyNeMFfxQasy232o2vShw7GR",
      "include_colab_link": true
    },
    "kernelspec": {
      "name": "python3",
      "display_name": "Python 3"
    },
    "language_info": {
      "name": "python"
    }
  },
  "cells": [
    {
      "cell_type": "markdown",
      "metadata": {
        "id": "view-in-github",
        "colab_type": "text"
      },
      "source": [
        "<a href=\"https://colab.research.google.com/github/jeongsubin1/Firstcode/blob/main/My1st_Code.ipynb\" target=\"_parent\"><img src=\"https://colab.research.google.com/assets/colab-badge.svg\" alt=\"Open In Colab\"/></a>"
      ]
    },
    {
      "cell_type": "markdown",
      "source": [
        "1. 나의 생애ㅐ 첫 코드작성(Hello World!)"
      ],
      "metadata": {
        "id": "M0sKU5XyhAPT"
      }
    },
    {
      "cell_type": "code",
      "execution_count": null,
      "metadata": {
        "colab": {
          "base_uri": "https://localhost:8080/"
        },
        "id": "vlxvMtwvcOUy",
        "outputId": "b0a8502a-e18d-441a-e946-996b7bbcd91d"
      },
      "outputs": [
        {
          "output_type": "stream",
          "name": "stdout",
          "text": [
            "hello world!\n"
          ]
        }
      ],
      "source": [
        "# print 함수를 이용해 \"hello world!\" 문자열을 출력합니다.\n",
        "print(\"hello world!\")"
      ]
    },
    {
      "cell_type": "markdown",
      "source": [
        "2. 사칙연산*(+, -, *, /)"
      ],
      "metadata": {
        "id": "kau6eR6ckGsS"
      }
    },
    {
      "cell_type": "code",
      "source": [
        "# print 함수를 이용해 여러 수식의 계산 결과를 출력합니다. 4+4, 4-2, 4*4, 4//2의 계산 결과를 각각 출력합니다.\n",
        "print(4+4, 4-2, 4*4, 4//2)"
      ],
      "metadata": {
        "colab": {
          "base_uri": "https://localhost:8080/"
        },
        "id": "asSf9_zlkQLa",
        "outputId": "e1462eb1-02ca-4ba6-b6b1-76caa5da7587"
      },
      "execution_count": null,
      "outputs": [
        {
          "output_type": "stream",
          "name": "stdout",
          "text": [
            "8 2 16 2\n"
          ]
        }
      ]
    }
  ]
}