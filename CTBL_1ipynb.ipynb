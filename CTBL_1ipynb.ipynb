{
  "nbformat": 4,
  "nbformat_minor": 0,
  "metadata": {
    "colab": {
      "provenance": [],
      "authorship_tag": "ABX9TyNEAw6+ME/FEl0mmZvKL1ug",
      "include_colab_link": true
    },
    "kernelspec": {
      "name": "python3",
      "display_name": "Python 3"
    },
    "language_info": {
      "name": "python"
    }
  },
  "cells": [
    {
      "cell_type": "markdown",
      "metadata": {
        "id": "view-in-github",
        "colab_type": "text"
      },
      "source": [
        "<a href=\"https://colab.research.google.com/github/jeongsubin1/Firstcode/blob/main/CTBL_1ipynb.ipynb\" target=\"_parent\"><img src=\"https://colab.research.google.com/assets/colab-badge.svg\" alt=\"Open In Colab\"/></a>"
      ]
    },
    {
      "cell_type": "markdown",
      "source": [
        "1. 학생으로부터 성적을 입력받아 합격 유뮤를 출력하는 코드작성\n",
        "- 사용변수 : Grade\n",
        "- 사용수식 : Grade >= 70:"
      ],
      "metadata": {
        "id": "gJqRGInD0ork"
      }
    },
    {
      "cell_type": "code",
      "source": [
        "Grade = int(input(\"성적입력: \"))\n",
        "if Grade >= 70:\n",
        "   print(\"70점 이상이므로 합격\")\n",
        "else:\n",
        "  print(\"70점 이하는 불합격\")"
      ],
      "metadata": {
        "colab": {
          "base_uri": "https://localhost:8080/"
        },
        "id": "eYBZZi2O1QRG",
        "outputId": "bfeb76e8-97e5-44c7-dc3b-73dd1168055d"
      },
      "execution_count": 2,
      "outputs": [
        {
          "output_type": "stream",
          "name": "stdout",
          "text": [
            "성적입력: 80\n",
            "70점 이상이므로 합격\n"
          ]
        }
      ]
    },
    {
      "cell_type": "markdown",
      "source": [
        "2. 쇼핑몰의 배송료를 계산하는 코드 작성\n",
        " - 변수명 : price, shipping_cost\n",
        " - 수식 : price >= 20000\n",
        " - shipping_cost = 3000"
      ],
      "metadata": {
        "id": "oRzqlu4E3tEN"
      }
    },
    {
      "cell_type": "code",
      "source": [
        "price = int(input(\"구입금액 입력: \"))\n",
        "if price >= 20000:\n",
        "   shipping_cost = 0\n",
        "   print(f'구입금액이 {price}원 이상입니다.')\n",
        "else:\n",
        "  shipping_cost = 3000\n",
        "  print(\"구입금액이 2만원 이하입니다.\")\n",
        "print(f'회원님의 배송료는 {shipping_cost}입니다.')"
      ],
      "metadata": {
        "colab": {
          "base_uri": "https://localhost:8080/"
        },
        "id": "bwFyTaI640ke",
        "outputId": "37885f88-353a-486a-a14a-c786d7c7282f"
      },
      "execution_count": 4,
      "outputs": [
        {
          "output_type": "stream",
          "name": "stdout",
          "text": [
            "구입금액 입력: 20000\n",
            "구입금액이 20000원 이상입니다.\n",
            "회원님의 배송료는 0입니다.\n"
          ]
        }
      ]
    },
    {
      "cell_type": "markdown",
      "source": [
        "3. 근무시간에 따라 초과근무와 정상근무를 판별하는 코드작성.\n",
        " - 변수 : work_hour\n",
        " - 수식 : >= , 기준시간 : 72시간"
      ],
      "metadata": {
        "id": "2jWptHsM7GWb"
      }
    },
    {
      "cell_type": "code",
      "source": [
        "work_hour = int(input(\"근무시간 입력: \"))\n",
        "if work_hour >= 72:\n",
        "  print(\"초과근무 하였습니다.\")\n",
        "else:\n",
        "  print(\"정산근무 하였습니다.\")"
      ],
      "metadata": {
        "colab": {
          "base_uri": "https://localhost:8080/"
        },
        "id": "CkacjJ5u8V4n",
        "outputId": "24ebbac8-0de9-40c7-a201-8eccd7e07f8b"
      },
      "execution_count": 6,
      "outputs": [
        {
          "output_type": "stream",
          "name": "stdout",
          "text": [
            "근무시간 입력: 73\n",
            "초과근무 하였습니다.\n"
          ]
        }
      ]
    },
    {
      "cell_type": "markdown",
      "source": [
        "4. 정수를 입력받아서 짝수인지 홀수인지 판별하는 코드 작성\n",
        " - 변수 : num\n",
        " - 수식 : (num % 2) != 0:"
      ],
      "metadata": {
        "id": "Te3GgPub9-Ht"
      }
    },
    {
      "cell_type": "code",
      "source": [
        "num = int(input(\"정수를 입력하시오.\"))\n",
        "if (num % 2) != 0:\n",
        "  print(\"홀수입니다\")\n",
        "else:\n",
        "  print(\"짝수입니다.\")"
      ],
      "metadata": {
        "colab": {
          "base_uri": "https://localhost:8080/"
        },
        "id": "-RErgVfW-T65",
        "outputId": "4eb7dc22-a6e4-4111-b1fb-1cf6f57874a6"
      },
      "execution_count": 7,
      "outputs": [
        {
          "output_type": "stream",
          "name": "stdout",
          "text": [
            "정수를 입력하시오.4\n",
            "짝수입니다.\n"
          ]
        }
      ]
    },
    {
      "cell_type": "markdown",
      "source": [
        "5. 사용자의 이름과 나이를 입력받고, 답변하는 코드 작성\n",
        "  -입력 : 성명 - name\n",
        " - 입력 : 나이 - age\n",
        " - 수식 : if age <= 20:\n",
        "\n",
        " 최종 출력물\n",
        " - 이름을 입력하시오.:***\n",
        " - 나이를 입력하시오 ***\n",
        " - (1) 프로그래밍을 배우는 최적의 나이입니다.\n",
        " - (2) 아직도 늦지 않았습니다.도전정신"
      ],
      "metadata": {
        "id": "LvcDLCA6AlTJ"
      }
    },
    {
      "cell_type": "code",
      "source": [
        "name = input(\"이름을 입력하세요: \")\n",
        "age = int(input(\"나이를 입력하세요: \"))\n",
        "if age <= 20:\n",
        "   print(\"프로그래밍을 배우는 최적의 나이입니다.\")\n",
        "else:\n",
        "   print(\"아직도 늦지 않았습니다. 도전정신\")\n",
        ""
      ],
      "metadata": {
        "colab": {
          "base_uri": "https://localhost:8080/"
        },
        "id": "kZP8lWMoBWdI",
        "outputId": "ce76b710-bd4e-483b-c293-8f8f74c6cf1b"
      },
      "execution_count": 11,
      "outputs": [
        {
          "output_type": "stream",
          "name": "stdout",
          "text": [
            "이름을 입력하세요: 정수빈\n",
            "나이를 입력하세요: 20\n",
            "프로그래밍을 배우는 최적의 나이입니다.\n"
          ]
        }
      ]
    },
    {
      "cell_type": "code",
      "source": [
        "import random  # 파이썬의 내장 모듈인 random을 import 합니다. 이 모듈은 랜덤한 숫자를 생성하는데 사용됩니다.\n",
        "\n",
        "def generate_lotto_numbers():  # 로또 번호를 생성하는 함수를 정의합니다.\n",
        "    numbers = set()  # 중복을 허용하지 않는 set 자료형을 이용해 로또 번호를 담을 numbers를 초기화합니다.\n",
        "\n",
        "    while len(numbers) < 6:  # 로또 번호 6개가 모두 생성될 때까지 반복합니다.\n",
        "        numbers.add(random.randint(1, 45))  # 1부터 45까지의 랜덤한 수를 생성해 numbers에 추가합니다.\n",
        "\n",
        "    return sorted(list(numbers))  # 생성된 로또 번호 6개를 오름차순으로 정렬하여 반환합니다.\n",
        "\n",
        "lotto_numbers = generate_lotto_numbers()  # 위에서 정의한 함수를 호출하여 로또 번호를 생성합니다.\n",
        "print(lotto_numbers)  # 생성된 로또 번호를 출력합니다.\n"
      ],
      "metadata": {
        "colab": {
          "base_uri": "https://localhost:8080/"
        },
        "id": "eX05HxHhFJNK",
        "outputId": "2736f9fc-2b68-443f-a839-d8c7f067052e"
      },
      "execution_count": 12,
      "outputs": [
        {
          "output_type": "stream",
          "name": "stdout",
          "text": [
            "[1, 4, 15, 40, 42, 43]\n"
          ]
        }
      ]
    },
    {
      "cell_type": "code",
      "source": [
        "# 사용자의 이름과 나이를 입력받는 코드를 작성합니다.\n",
        "name = input(\"이름을 입력해주세요: \")  # input 함수를 이용해 사용자로부터 이름을 입력받습니다.\n",
        "age = int(input(\"나이를 입력해주세요: \"))  # input 함수를 이용해 사용자로부터 나이를 입력받고, 이를 정수형으로 변환합니다.\n",
        "\n",
        "# 입력받은 나이가 20살 이하인지, 초과인지 판단하는 조건문을 작성합니다.\n",
        "if age <= 20:  # 나이가 20살 이하이면\n",
        "    print(f\"{name}님, 프로그래밍을 배우는 최적의 나이입니다.\")  # 해당 메시지를 출력합니다.\n",
        "else:  # 나이가 20살 초과이면\n",
        "    print(f\"{name}님, 아직도 늦지 않았습니다. 도전정신!\")  # 해당 메시지를 출력합니다.\n"
      ],
      "metadata": {
        "colab": {
          "base_uri": "https://localhost:8080/"
        },
        "id": "3G95L5xrGd92",
        "outputId": "3d3383b9-4a71-43f8-b850-61897066bc09"
      },
      "execution_count": 13,
      "outputs": [
        {
          "output_type": "stream",
          "name": "stdout",
          "text": [
            "이름을 입력해주세요: 정수빈\n",
            "나이를 입력해주세요: 20\n",
            "정수빈님, 프로그래밍을 배우는 최적의 나이입니다.\n"
          ]
        }
      ]
    }
  ]
}