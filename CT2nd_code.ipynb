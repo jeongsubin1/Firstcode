{
  "nbformat": 4,
  "nbformat_minor": 0,
  "metadata": {
    "colab": {
      "provenance": [],
      "authorship_tag": "ABX9TyPlBspxSsTwSU/d5fKvTkN0",
      "include_colab_link": true
    },
    "kernelspec": {
      "name": "python3",
      "display_name": "Python 3"
    },
    "language_info": {
      "name": "python"
    }
  },
  "cells": [
    {
      "cell_type": "markdown",
      "metadata": {
        "id": "view-in-github",
        "colab_type": "text"
      },
      "source": [
        "<a href=\"https://colab.research.google.com/github/jeongsubin1/Firstcode/blob/main/CT2nd_code.ipynb\" target=\"_parent\"><img src=\"https://colab.research.google.com/assets/colab-badge.svg\" alt=\"Open In Colab\"/></a>"
      ]
    },
    {
      "cell_type": "markdown",
      "source": [
        "2번째 코딩\n",
        "\n",
        "-사용자로부터 3개의 값을 받아서 합을 내고, 평균을 출력하는 코드"
      ],
      "metadata": {
        "id": "dNFBElRsKbwI"
      }
    },
    {
      "cell_type": "code",
      "execution_count": null,
      "metadata": {
        "colab": {
          "base_uri": "https://localhost:8080/"
        },
        "id": "7GwQVc4aHUUB",
        "outputId": "f7ea52c1-986f-4a5d-ba6b-5cc651ea48c5"
      },
      "outputs": [
        {
          "output_type": "stream",
          "name": "stdout",
          "text": [
            "n1의 값을 입력하시오.:40\n",
            "n2의 값을 입력하시오.:50\n",
            "n3의 값을 입력하시오.:60\n",
            "50.0\n"
          ]
        }
      ],
      "source": [
        "# n1의 값을 사용자로부터 입력받고, 입력받은 문자열을 int() 함수를 이용해 정수로 변환합니다.\n",
        "n1 = int(input(\"n1의 값을 입력하시오.:\"))\n",
        "# n2의 값을 사용자로부터 입력받고, 입력받은 문자열을 int() 함수를 이용해 정수로 변환합니다.\n",
        "n2 = int(input(\"n2의 값을 입력하시오.:\"))\n",
        "# n3의 값을 사용자로부터 입력받고, 입력받은 문자열을 int() 함수를 이용해 정수로 변환합니다.\n",
        "n3 = int(input(\"n3의 값을 입력하시오.:\"))\n",
        "# 세 개의 값을 모두 더하여 total 변수에 할당합니다.\n",
        "total = n1 + n2 + n3\n",
        "# 세 개의 값의 평균을 계산하여 average 변수에 할당합니다.\n",
        "average = total / 3\n",
        "# 평균 값을 출력합니다.\n",
        "print(average)"
      ]
    }
  ]
}