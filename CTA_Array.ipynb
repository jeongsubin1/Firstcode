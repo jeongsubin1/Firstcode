{
  "nbformat": 4,
  "nbformat_minor": 0,
  "metadata": {
    "colab": {
      "provenance": [],
      "authorship_tag": "ABX9TyO+LR3zDkrEYFERudeiHD90",
      "include_colab_link": true
    },
    "kernelspec": {
      "name": "python3",
      "display_name": "Python 3"
    },
    "language_info": {
      "name": "python"
    }
  },
  "cells": [
    {
      "cell_type": "markdown",
      "metadata": {
        "id": "view-in-github",
        "colab_type": "text"
      },
      "source": [
        "<a href=\"https://colab.research.google.com/github/jeongsubin1/Firstcode/blob/main/CTA_Array.ipynb\" target=\"_parent\"><img src=\"https://colab.research.google.com/assets/colab-badge.svg\" alt=\"Open In Colab\"/></a>"
      ]
    },
    {
      "cell_type": "markdown",
      "source": [
        "1. 배열의 선언\n",
        "  - 일반 변수의 선언 : 변수명 = 변수의 값\n",
        "  - 배열의 변수 선언 : 변수명 = [ ,  , ]"
      ],
      "metadata": {
        "id": "NlvXln-6MHMa"
      }
    },
    {
      "cell_type": "code",
      "source": [
        "# movie_list라는 리스트 변수를 선언하고, 5개의 영화 이름을 요소로 갖도록 초기화합니다.\n",
        "movie_list = [\"아바타\", \"타이타닉\", \"스타워즈\", \"쥬라기월드\", \"어벤저스\"]\n",
        "# movie_list의 첫 번째 요소를 출력합니다. 파이썬의 인덱스는 0부터 시작하기 때문에, movie_list[0]은 \"아바타\"를 의미합니다.\n",
        "print(movie_list[0])\n",
        "# movie_list의 다섯 번째 요소를 출력합니다. 파이썬의 인덱스는 0부터 시작하기 때문에, movie_list[4]는 \"어벤저스\"를 의미합니다.\n",
        "print(movie_list[4])"
      ],
      "metadata": {
        "colab": {
          "base_uri": "https://localhost:8080/"
        },
        "id": "SJY-agUQNUjo",
        "outputId": "996918fa-8310-4f18-a525-416b250b7f09"
      },
      "execution_count": null,
      "outputs": [
        {
          "output_type": "stream",
          "name": "stdout",
          "text": [
            "아바타\n",
            "어벤저스\n"
          ]
        }
      ]
    },
    {
      "cell_type": "markdown",
      "source": [
        "2. 요일을 배열로 선언하라.\n",
        "  - 변수명 : day_list\n",
        "  * 요일 : 월(Mon.), 화(Tues), 수(Wed.), 목(Thut), 금(Fri.), 토(Sat.), 일(Sun.)"
      ],
      "metadata": {
        "id": "d0tfydcDOarB"
      }
    },
    {
      "cell_type": "code",
      "source": [
        "# day_list라는 리스트 변수를 선언하고, 일주일의 요일 이름을 요소로 갖도록 초기화합니다.\n",
        "day_list = [\"월(Mon.)\", \"화(Tues)\", \"수(Wed.)\", \"목(Thut)\", \"금(Fri.)\", \"토(Sat.)\", \"일(Sun.)\"]\n",
        "# day_list의 첫 번째 요소를 출력합니다. 파이썬의 인덱스는 0부터 시작하기 때문에, day_list[0]은 \"월(Mon.)\"을 의미합니다.\n",
        "print(day_list[0])\n",
        "# day_list의 두 번째 요소를 출력합니다. 파이썬의 인덱스는 0부터 시작하기 때문에, day_list[1]은 \"화(Tues)\"를 의미합니다.\n",
        "print(day_list[1])\n",
        "# day_list의 세 번째 요소를 출력합니다. 파이썬의 인덱스는 0부터 시작하기 때문에, day_list[2]은 \"수(Wed.)\"를 의미합니다.\n",
        "print(day_list[2])\n",
        "# day_list의 네 번째 요소를 출력합니다. 파이썬의 인덱스는 0부터 시작하기 때문에, day_list[3]은 \"목(Thut)\"를 의미합니다.\n",
        "print(day_list[3])\n",
        "# day_list의 다섯 번째 요소를 출력합니다. 파이썬의 인덱스는 0부터 시작하기 때문에, day_list[4]은 \"금(Fri.)\"를 의미합니다.\n",
        "print(day_list[4])\n",
        "# day_list의 여섯 번째 요소를 출력합니다. 파이썬의 인덱스는 0부터 시작하기 때문에, day_list[5]은 \"토(Sat.)\"를 의미합니다.\n",
        "print(day_list[5])\n",
        "# day_list의 일곱 번째 요소를 출력합니다. 파이썬의 인덱스는 0부터 시작하기 때문에, day_list[6]은 \"일(Sun.)\"를 의미합니다.\n",
        "print(day_list[6])"
      ],
      "metadata": {
        "colab": {
          "base_uri": "https://localhost:8080/"
        },
        "id": "8_1KEkO6O_B5",
        "outputId": "a473cd84-69f4-44b8-896f-d52067103297"
      },
      "execution_count": null,
      "outputs": [
        {
          "output_type": "stream",
          "name": "stdout",
          "text": [
            "월(Mon.)\n",
            "화(Tues)\n",
            "수(Wed.)\n",
            "목(Thut)\n",
            "금(Fri.)\n",
            "토(Sat.)\n",
            "일(Sun.)\n"
          ]
        }
      ]
    }
  ]
}