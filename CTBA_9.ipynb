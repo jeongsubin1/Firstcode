{
  "nbformat": 4,
  "nbformat_minor": 0,
  "metadata": {
    "colab": {
      "provenance": [],
      "authorship_tag": "ABX9TyO454ICWT1U5UsK5doYe6EJ",
      "include_colab_link": true
    },
    "kernelspec": {
      "name": "python3",
      "display_name": "Python 3"
    },
    "language_info": {
      "name": "python"
    }
  },
  "cells": [
    {
      "cell_type": "markdown",
      "metadata": {
        "id": "view-in-github",
        "colab_type": "text"
      },
      "source": [
        "<a href=\"https://colab.research.google.com/github/jeongsubin1/Firstcode/blob/main/CTBA_9.ipynb\" target=\"_parent\"><img src=\"https://colab.research.google.com/assets/colab-badge.svg\" alt=\"Open In Colab\"/></a>"
      ]
    },
    {
      "cell_type": "markdown",
      "source": [
        "1. 두가지 이상의 선택, 다방향 선택구조 코딩\n",
        "- 배송료 처리 3가지로 작성\n",
        "- 정수: price, 가격 10만원이상 0원, 2만원이상 3000원, 그외 5천원"
      ],
      "metadata": {
        "id": "WfKHy6oaMAmK"
      }
    },
    {
      "cell_type": "code",
      "source": [
        "# \"배송료를 계산합니다.\"라는 메시지를 출력합니다.\n",
        "print(\"배송료를 계산합니다.\")\n",
        "# \"#\" 문자를 30번 반복하여 출력합니다. 이는 보통 구분선으로 사용됩니다.\n",
        "print(\"#\" * 30)\n",
        "# 사용자로부터 구입금액을 입력받습니다. int(input())을 통해 입력받은 문자열을 정수형으로 변환합니다.\n",
        "price = int(input(\"구입금액 입력: \"))\n",
        "# 구입금액이 100000원 이상이면 배송료는 0원입니다.\n",
        "if price >= 100000:\n",
        "  shipping_cost = 0\n",
        "# 구입금액이 100000원 미만이면서 20000원 이상이면 배송료는 3000원입니다.\n",
        "else:\n",
        "  if price >= 20000:\n",
        "    shipping_cost = 3000\n",
        "  # 구입금액이 20000원 미만이면 배송료는 5000원입니다.\n",
        "  else:\n",
        "    shipping_cost = 5000\n",
        "# 최종적으로 계산된 배송료를 출력합니다.\n",
        "print(f'배송료는 {shipping_cost} 입니다.')\n"
      ],
      "metadata": {
        "colab": {
          "base_uri": "https://localhost:8080/"
        },
        "id": "l4dxPFs_M5TZ",
        "outputId": "78cc05c5-3757-42e3-c419-20eb3f450139"
      },
      "execution_count": null,
      "outputs": [
        {
          "output_type": "stream",
          "name": "stdout",
          "text": [
            "배송료를 계산합니다.\n",
            "##############################\n",
            "구입금액 입력: 19000\n",
            "배송료는 5000 입니다.\n"
          ]
        }
      ]
    },
    {
      "cell_type": "markdown",
      "source": [
        "2. 환영합니다. 5번 출력, 10번 출력, 30번 출력"
      ],
      "metadata": {
        "id": "Jq4WHfh6OOyD"
      }
    },
    {
      "cell_type": "code",
      "source": [
        "# \"환영합니다.\"라는 메시지를 출력합니다. 이 코드를 복사하여 5번 반복하였습니다.\n",
        "print(\"환영합니다.\")\n",
        "print(\"환영합니다.\")\n",
        "print(\"환영합니다.\")\n",
        "print(\"환영합니다.\")\n",
        "print(\"환영합니다.\")\n"
      ],
      "metadata": {
        "colab": {
          "base_uri": "https://localhost:8080/"
        },
        "id": "2M371N7lOW4S",
        "outputId": "d17e8504-04c9-4044-acc3-76e9fa43e906"
      },
      "execution_count": null,
      "outputs": [
        {
          "output_type": "stream",
          "name": "stdout",
          "text": [
            "환영합니다.\n",
            "환영합니다.\n",
            "환영합니다.\n",
            "환영합니다.\n",
            "환영합니다.\n"
          ]
        }
      ]
    },
    {
      "cell_type": "code",
      "source": [
        "# \"환영합니다.\"라는 메시지를 뒤에 개행문자(\\n)와 함께 5번 반복하여 출력합니다.\n",
        "# 개행문자(\\n)는 줄바꿈을 의미하므로, 이 코드는 \"환영합니다.\"라는 문장을 5줄에 걸쳐 출력합니다.\n",
        "print(\"환영합니다.\\n\" * 5)"
      ],
      "metadata": {
        "colab": {
          "base_uri": "https://localhost:8080/"
        },
        "id": "0kT7K7NYVKBb",
        "outputId": "ab95f648-bbc2-4438-aa78-69cb30d376ea"
      },
      "execution_count": null,
      "outputs": [
        {
          "output_type": "stream",
          "name": "stdout",
          "text": [
            "환영합니다. \n",
            "환영합니다. \n",
            "환영합니다. \n",
            "환영합니다. \n",
            "환영합니다. \n",
            "\n"
          ]
        }
      ]
    },
    {
      "cell_type": "code",
      "source": [
        "# count를 1로 초기화합니다. 이 count는 뒤의 while문에서 사용될 반복 횟수를 결정하는 변수입니다.\n",
        "count = 1\n",
        "# count가 5 이하일 동안 아래의 코드를 반복 실행합니다.\n",
        "while count <=5:\n",
        "  # 문자열 포매팅을 이용해 \"(count 번째)환영합니다\" 형태로 출력합니다.\n",
        "  # count는 현재 반복 횟수를 나타내므로, 이 메시지는 \"(1)환영합니다\", \"(2)환영합니다\", ..., \"(5)환영합니다\" 순으로 출력됩니다.\n",
        "  print(f'({count})환영합니다')\n",
        "  # count 값을 1 증가시킵니다. 이를 통해 다음 반복에서는 다음 번호가 출력되고, 5번 반복 후에는 while문이 종료됩니다.\n",
        "  count += 1"
      ],
      "metadata": {
        "colab": {
          "base_uri": "https://localhost:8080/"
        },
        "id": "DQxGwG1OSrPD",
        "outputId": "f4ea8624-5d3c-492a-ca4b-ba530373a1d9"
      },
      "execution_count": null,
      "outputs": [
        {
          "output_type": "stream",
          "name": "stdout",
          "text": [
            "(1)환영합니다\n",
            "(2)환영합니다\n",
            "(3)환영합니다\n",
            "(4)환영합니다\n",
            "(5)환영합니다\n"
          ]
        }
      ]
    },
    {
      "cell_type": "markdown",
      "source": [
        "3. 0부터 9까지 출력하는 코드 작성\n",
        "- 변수:x"
      ],
      "metadata": {
        "id": "Z0U-NnLhUw40"
      }
    },
    {
      "cell_type": "code",
      "source": [
        "# x를 0으로 초기화합니다. 이 x는 뒤의 while문에서 사용될 반복 횟수를 결정하는 변수입니다.\n",
        "x = 0\n",
        "# x가 10보다 작은 동안 아래의 코드를 반복 실행합니다.\n",
        "while x < 10:\n",
        "  # x 값을 출력합니다. 여기서 end=' '는 print 함수가 기본적으로 출력 후에 수행하는 줄바꿈 대신에 공백(' ')을 출력하도록 합니다.\n",
        "  # 따라서 출력된 숫자들은 모두 한 줄에 공백으로 구분되어 출력됩니다.\n",
        "  print(x, end=' ')\n",
        "  # x 값을 1 증가시킵니다. 이를 통해 다음 반복에서는 다음 번호가 출력되고, 10번 반복 후에는 while문이 종료됩니다.\n",
        "  x += 1"
      ],
      "metadata": {
        "colab": {
          "base_uri": "https://localhost:8080/"
        },
        "id": "kvlBeI_OU4bj",
        "outputId": "7ca54687-ccd6-4b3a-c9fa-d8ea816d05b0"
      },
      "execution_count": null,
      "outputs": [
        {
          "output_type": "stream",
          "name": "stdout",
          "text": [
            "0 1 2 3 4 5 6 7 8 9 "
          ]
        }
      ]
    },
    {
      "cell_type": "markdown",
      "source": [
        "4. 1부터 10까지 정수의 합을 계산하여 출력하는 코드"
      ],
      "metadata": {
        "id": "nwlHYmoiaX7H"
      }
    },
    {
      "cell_type": "code",
      "source": [
        "# x를 1로 초기화합니다. 이 x는 뒤의 while문에서 사용될 반복 횟수를 결정하는 변수입니다.\n",
        "x = 1\n",
        "# total을 0으로 초기화합니다. 이 total은 1부터 10까지의 합을 계산하기 위한 변수입니다.\n",
        "total = 0\n",
        "# x가 10 이하일 동안 아래의 코드를 반복 실행합니다.\n",
        "while x <=10:\n",
        "  # 현재 x 값을 total에 더하여, total을 업데이트합니다.\n",
        "  total = total + x\n",
        "  # x 값을 1 증가시킵니다. 이를 통해 다음 반복에서는 다음 번호가 더해지고, 10번 반복 후에는 while문이 종료됩니다.\n",
        "  x += 1\n",
        "# 1부터 10까지의 합인 total 값을 출력합니다.\n",
        "print(total)"
      ],
      "metadata": {
        "colab": {
          "base_uri": "https://localhost:8080/"
        },
        "id": "dqnMX4cdabVH",
        "outputId": "7f787d73-dc49-4f3d-bc6e-d9d331466430"
      },
      "execution_count": null,
      "outputs": [
        {
          "output_type": "stream",
          "name": "stdout",
          "text": [
            "55\n"
          ]
        }
      ]
    },
    {
      "cell_type": "code",
      "source": [
        "# x를 1로 초기화합니다. 이 x는 뒤의 while문에서 사용될 반복 횟수를 결정하는 변수입니다.\n",
        "x = 1\n",
        "# x가 10 이하일 동안 아래의 코드를 반복 실행합니다.\n",
        "while x <=10:\n",
        "  # 현재 x 값을 출력합니다. x는 1부터 시작하여 매 반복마다 1씩 증가하므로, 이 코드는 1부터 10까지의 숫자를 한 줄씩 출력합니다.\n",
        "  print(x)\n",
        "  # x 값을 1 증가시킵니다. 이를 통해 다음 반복에서는 다음 번호가 출력되고, 10번 반복 후에는 while문이 종료됩니다.\n",
        "  x += 1"
      ],
      "metadata": {
        "colab": {
          "base_uri": "https://localhost:8080/"
        },
        "id": "-zUatP0MY3WF",
        "outputId": "41e70295-ee6f-4778-cfec-611e436b8253"
      },
      "execution_count": null,
      "outputs": [
        {
          "output_type": "stream",
          "name": "stdout",
          "text": [
            "1\n",
            "2\n",
            "3\n",
            "4\n",
            "5\n",
            "6\n",
            "7\n",
            "8\n",
            "9\n",
            "10\n"
          ]
        }
      ]
    },
    {
      "cell_type": "markdown",
      "source": [
        "5. 3-6-9 게임(3의 배수 판단): 3의 배수를 3으로 나누면 나머지가\n",
        "0이 되므로(i mod 3)의 값이 0이면 박수를 출력, 아니면 숫자를 출력해주는 코드 작성\n"
      ],
      "metadata": {
        "id": "m6H7LPVPVncM"
      }
    },
    {
      "cell_type": "code",
      "source": [
        "i = 1                               # 변수 i는 1으로 선언\n",
        "while i <=30:                       # 반복문 while을 사용해서 i가 30보다 작거나 같을 때\n",
        "  if i % 3 ==0:                     # 만약 i값을 3으로 나눈 나머지가 0이면\n",
        "    print(\"박수\", end=' ')          # 박수를 출력하고 공백을 하나 만듦\n",
        "  else:                             # 위의 것이 아니면,\n",
        "    print(i, end=' ')               #i 값만 출력하고 공백 하나 만듦\n",
        "  i += 1                            # 변수 i값에 i와 1을 더해서 다시 변수 i에 선언"
      ],
      "metadata": {
        "colab": {
          "base_uri": "https://localhost:8080/"
        },
        "id": "MnIt_rJPWBO9",
        "outputId": "502cf70b-5318-4c02-acfa-f56f514999aa"
      },
      "execution_count": null,
      "outputs": [
        {
          "output_type": "stream",
          "name": "stdout",
          "text": [
            "1 2 박수 4 5 박수 7 8 박수 10 11 박수 13 14 박수 16 17 박수 19 20 박수 22 23 박수 25 26 박수 28 29 박수 "
          ]
        }
      ]
    },
    {
      "cell_type": "code",
      "source": [
        "for num in range(1, 11):        # 1부터 10까지의 숫자를 반복\n",
        "  if num % 3 == 0:              # 숫자(num)를 3으로 나눈 나머지가 0인경우\n",
        "    print(\"박수\", end=' ')      # 박수를 출력하고 공백 만듦\n",
        "  else:                         # 그게 아니면\n",
        "    print(num, end=' ')         # 숫자만 출력하고 공백 만듦"
      ],
      "metadata": {
        "colab": {
          "base_uri": "https://localhost:8080/"
        },
        "id": "gU_kf3BYZK6N",
        "outputId": "3c9404a1-d89a-4edc-ce79-cd44754439bb"
      },
      "execution_count": null,
      "outputs": [
        {
          "output_type": "stream",
          "name": "stdout",
          "text": [
            "1 2 박수 4 5 박수 7 8 박수 10 "
          ]
        }
      ]
    },
    {
      "cell_type": "markdown",
      "source": [
        "6. 팩토리얼 계산하는 코드 작성"
      ],
      "metadata": {
        "id": "_3s6NQ6Wald-"
      }
    },
    {
      "cell_type": "code",
      "source": [
        "# i를 4로 초기화합니다. 이 i는 뒤의 while문에서 사용될 반복 횟수를 결정하는 변수입니다.\n",
        "i = 4\n",
        "# factorial을 1로 초기화합니다. 이 factorial은 4의 팩토리얼을 계산하기 위한 변수입니다.\n",
        "factorial = 1\n",
        "# i가 1 이상일 동안 아래의 코드를 반복 실행합니다.\n",
        "while i >= 1:\n",
        "  # 현재 i 값을 factorial에 곱하여, factorial을 업데이트합니다.\n",
        "  factorial = factorial * i\n",
        "  # i 값을 1 감소시킵니다. 이를 통해 다음 반복에서는 다음 번호가 곱해지고, 1이 될 때까지 반복 후에는 while문이 종료됩니다.\n",
        "  i -= 1\n",
        "# 4의 팩토리얼인 factorial 값을 출력합니다.\n",
        "print(factorial)"
      ],
      "metadata": {
        "colab": {
          "base_uri": "https://localhost:8080/"
        },
        "id": "I38-8imZaogf",
        "outputId": "7ff69386-e961-4c65-f053-e926d6cb0af8"
      },
      "execution_count": null,
      "outputs": [
        {
          "output_type": "stream",
          "name": "stdout",
          "text": [
            "24\n"
          ]
        }
      ]
    },
    {
      "cell_type": "code",
      "source": [
        "# 사용자로부터 팩토리얼을 계산할 숫자를 입력받습니다. 입력받은 문자열을 int() 함수를 이용해 정수로 변환합니다.\n",
        "num = int(input(\"팩토리얼 값입력: \"))\n",
        "# factorial을 1로 초기화합니다. 이 factorial은 num의 팩토리얼을 계산하기 위한 변수입니다.\n",
        "factorial = 1\n",
        "# num가 1 이상일 동안 아래의 코드를 반복 실행합니다.\n",
        "while num >= 1:\n",
        "  # 현재 num 값을 factorial에 곱하여, factorial을 업데이트합니다.\n",
        "  factorial = factorial * num\n",
        "  # num 값을 1 감소시킵니다. 이를 통해 다음 반복에서는 다음 번호가 곱해지고, 1이 될 때까지 반복 후에는 while문이 종료됩니다.\n",
        "  num -= 1\n",
        "# 계산된 팩토리얼 값인 factorial 값을 출력합니다.\n",
        "print(\"계산된 팩토리얼 값은: \", factorial)"
      ],
      "metadata": {
        "colab": {
          "base_uri": "https://localhost:8080/"
        },
        "id": "fKJZ-F8Vbjmf",
        "outputId": "6d11147c-0e48-4404-b899-5537bda58337"
      },
      "execution_count": null,
      "outputs": [
        {
          "output_type": "stream",
          "name": "stdout",
          "text": [
            "팩토리얼 값입력: 5\n",
            "계산된 팩토리얼 값은:  120\n"
          ]
        }
      ]
    }
  ]
}