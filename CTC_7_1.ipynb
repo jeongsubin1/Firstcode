{
  "nbformat": 4,
  "nbformat_minor": 0,
  "metadata": {
    "colab": {
      "provenance": [],
      "authorship_tag": "ABX9TyMoB3Vl/8kS++UuI4raKzQs",
      "include_colab_link": true
    },
    "kernelspec": {
      "name": "python3",
      "display_name": "Python 3"
    },
    "language_info": {
      "name": "python"
    }
  },
  "cells": [
    {
      "cell_type": "markdown",
      "metadata": {
        "id": "view-in-github",
        "colab_type": "text"
      },
      "source": [
        "<a href=\"https://colab.research.google.com/github/jeongsubin1/Firstcode/blob/main/CTC_7_1.ipynb\" target=\"_parent\"><img src=\"https://colab.research.google.com/assets/colab-badge.svg\" alt=\"Open In Colab\"/></a>"
      ]
    },
    {
      "cell_type": "markdown",
      "source": [
        "1. 사용자로부터 3개의 값(x, y, z)를 입력받아서 각각 1씩 증가되고, 출력되는 코드작성"
      ],
      "metadata": {
        "id": "EtJ6nkxPHJu1"
      }
    },
    {
      "cell_type": "code",
      "source": [
        "x = int(input(\"x의 값을 입력하시오.:\"))\n",
        "y = int(input(\"y의 값을 입력하시오.:\"))\n",
        "z = int(input(\"z의 값을 입력하시오.:\"))\n",
        "x = x + 1\n",
        "y = y + 1\n",
        "z = z + 1\n",
        "print(f'x의 값은{x}이며, y의 값은 {y}이고, z의 값은 {z}이다.')"
      ],
      "metadata": {
        "colab": {
          "base_uri": "https://localhost:8080/"
        },
        "id": "igaFvI0PHYXZ",
        "outputId": "31aae982-0056-44fe-d7b0-a4f6d16a4d42"
      },
      "execution_count": 2,
      "outputs": [
        {
          "output_type": "stream",
          "name": "stdout",
          "text": [
            "x의 값을 입력하시오.:1\n",
            "y의 값을 입력하시오.:2\n",
            "z의 값을 입력하시오.:3\n",
            "x의 값은2이며, y의 값은 3이고, z의 값은 4이다.\n"
          ]
        }
      ]
    },
    {
      "cell_type": "markdown",
      "source": [
        "2. 알바생의 시급과 시간을 계산하여 월급을 출력하는 코드\n"
      ],
      "metadata": {
        "id": "nRXdDBYtJLFP"
      }
    },
    {
      "cell_type": "code",
      "source": [
        "hours_work = int(input(\"일한 시간을 입력하시오: \"))\n",
        "pay_rate = int(input(\"시급을 입력하시오(23년 기준 9620원): \"))\n",
        "monthly_pay = hours_work * pay_rate\n",
        "print(f'일한 시간은 {hours_work}이고, 시급은 {pay_rate}원이며, 월급여는 {monthly_pay}원 입니다.')"
      ],
      "metadata": {
        "colab": {
          "base_uri": "https://localhost:8080/"
        },
        "id": "JiauiUmCJgj5",
        "outputId": "03975ec6-e1d2-48a9-8a34-cbdcd629d473"
      },
      "execution_count": 4,
      "outputs": [
        {
          "output_type": "stream",
          "name": "stdout",
          "text": [
            "일한 시간을 입력하시오: 10\n",
            "시급을 입력하시오(23년 기준 9620원): 9620\n",
            "일한 시간은 10이고, 시급은 9620원이며, 월급여는 96200원입니다.\n"
          ]
        }
      ]
    },
    {
      "cell_type": "markdown",
      "source": [
        "3. 환율계산하는 코드작성\n",
        " - 원의 변수는 won\n",
        " - 달러의 변수는 usd\n",
        " - 환전의 변수는 exchang"
      ],
      "metadata": {
        "id": "JoNaeB_6Lmpy"
      }
    },
    {
      "cell_type": "code",
      "source": [
        "won = int(input(\"환전할 금액을 입력(kor): \"))\n",
        "usd = int(input(\"현재 달러의 환율 입력(231031: 1372): \"))\n",
        "exchange = won // usd\n",
        "print(f'환전할 금액은 {won}이며, 달러 금액은 {usd}이고, 환전금액은 {exchange}입니다.')"
      ],
      "metadata": {
        "colab": {
          "base_uri": "https://localhost:8080/"
        },
        "id": "13yv4G4zL8BJ",
        "outputId": "001fac09-cf94-4371-8136-49926432e476"
      },
      "execution_count": 15,
      "outputs": [
        {
          "output_type": "stream",
          "name": "stdout",
          "text": [
            "환전할 금액을 입력(kor): 5000\n",
            "현재 달러의 환율 입력(231031: 1372): 1372\n",
            "환전할 금액은 5000이며, 달러 금액은 1372이고, 환전금액은 3입니다.\n"
          ]
        }
      ]
    },
    {
      "cell_type": "markdown",
      "source": [
        "4. 화씨(fahrenheit)를 섭씨 (celcius)로 변환하는 코드작성\n"
      ],
      "metadata": {
        "id": "ctq3ChtpOAxw"
      }
    },
    {
      "cell_type": "code",
      "source": [
        "fahrenheit = int(input(\"화씨온도를 입력하시오.: \"))\n",
        "celcius = (fahrenheit - 32) / 1.8\n",
        "print(f'화씨온도 {fahrenheit}도는, 섭씨 {celcius} 입니다.')"
      ],
      "metadata": {
        "colab": {
          "base_uri": "https://localhost:8080/"
        },
        "id": "Xh4e_KemOXuK",
        "outputId": "934e73c6-0e0b-4d79-befb-dadd27c62573"
      },
      "execution_count": 17,
      "outputs": [
        {
          "output_type": "stream",
          "name": "stdout",
          "text": [
            "화씨온도를 입력하시오.: 100\n",
            "화씨온도 100도는, 섭씨 37.77777777777778 입니다.\n"
          ]
        }
      ]
    },
    {
      "cell_type": "code",
      "source": [
        "celcius = float(input(\"섭씨온도를 입력하시오.: \"))\n",
        "fahrenheit = (celcius * 1.8) + 32\n",
        "print(f'섭씨온도 {celcius}도는, 화씨{fahrenheit}도 입니다.')"
      ],
      "metadata": {
        "colab": {
          "base_uri": "https://localhost:8080/"
        },
        "id": "vAzfjc-GPtU5",
        "outputId": "0e7f46f7-cc7c-4005-a1a4-10cbedc26b61"
      },
      "execution_count": 14,
      "outputs": [
        {
          "output_type": "stream",
          "name": "stdout",
          "text": [
            "섭씨온도를 입력하시오.: 37.77777777777778 \n",
            "섭씨온도 37.77777777777778도는, 화씨100.0도 입니다.\n"
          ]
        }
      ]
    },
    {
      "cell_type": "markdown",
      "source": [
        "5. 사용자로부터 2개의 정수를 받아서 합계를 출력"
      ],
      "metadata": {
        "id": "o2WZsPLtU4PA"
      }
    },
    {
      "cell_type": "code",
      "source": [
        "print(\"정수 2개를 입력하시오.\")\n",
        "x = int(input(\"x: \"))\n",
        "y = int(input(\"y: \"))\n",
        "sum = x + y\n",
        "print(\"합계:\", sum)"
      ],
      "metadata": {
        "colab": {
          "base_uri": "https://localhost:8080/"
        },
        "id": "8a0j1goaU__I",
        "outputId": "de6fee74-0d6a-45a2-aafc-a2e1d3bd3011"
      },
      "execution_count": 22,
      "outputs": [
        {
          "output_type": "stream",
          "name": "stdout",
          "text": [
            "정수 2개를 입력하시오.\n",
            "x: 1\n",
            "y: 2\n",
            "합계: 3\n"
          ]
        }
      ]
    },
    {
      "cell_type": "markdown",
      "source": [
        "6. 부가세를 계산하시오"
      ],
      "metadata": {
        "id": "f5qgEbPQWnfS"
      }
    },
    {
      "cell_type": "code",
      "source": [
        "print(\"상품의 가격을 입력하시오\")\n",
        "price = int(input(\"가격: \"))\n",
        "vat = price * 0.1\n",
        "print(\"부가세:\", vat)"
      ],
      "metadata": {
        "colab": {
          "base_uri": "https://localhost:8080/"
        },
        "id": "zqKc7XCiWqCR",
        "outputId": "8f50e1e2-484b-42b7-b2b1-4c1ab0db7fd4"
      },
      "execution_count": 26,
      "outputs": [
        {
          "output_type": "stream",
          "name": "stdout",
          "text": [
            "상품의 가격을 입력하시오\n",
            "가격: 5000\n",
            "부가세: 500.0\n"
          ]
        }
      ]
    }
  ]
}